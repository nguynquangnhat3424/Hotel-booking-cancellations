{
  "cells": [
    {
      "cell_type": "markdown",
      "source": [
        "## Môi trường lập trình"
      ],
      "metadata": {
        "id": "BSDlk6bSQi00"
      }
    },
    {
      "cell_type": "code",
      "execution_count": 3,
      "metadata": {
        "id": "u52pE_B0DdQt"
      },
      "outputs": [],
      "source": [
        "# Thư viện\n",
        "import pandas as pd\n",
        "import numpy as np\n",
        "import matplotlib.pyplot as plt\n",
        "import seaborn as sns\n",
        "import math\n",
        "import warnings\n",
        "import joblib            as jlb\n",
        "from sklearn.decomposition   import PCA\n",
        "from sklearn.preprocessing   import LabelEncoder, OneHotEncoder\n",
        "from sklearn.preprocessing   import Binarizer, PolynomialFeatures, MinMaxScaler, StandardScaler\n",
        "from sklearn.model_selection import train_test_split\n",
        "from sklearn.neighbors       import KNeighborsClassifier\n",
        "from sklearn                 import metrics\n",
        "from sklearn.metrics         import accuracy_score, confusion_matrix\n",
        "from sklearn.metrics         import auc,roc_curve\n",
        "from sklearn.metrics         import precision_score, recall_score, f1_score\n",
        "from sklearn.metrics         import roc_auc_score\n",
        "from sklearn.model_selection import KFold\n",
        "from sklearn                 import svm\n",
        "from mlxtend.preprocessing import TransactionEncoder\n",
        "from mlxtend.frequent_patterns import fpgrowth\n",
        "from sklearn.model_selection import train_test_split"
      ]
    },
    {
      "cell_type": "code",
      "source": [
        "# Bỏ qua các cảnh báo\n",
        "np.seterr(divide = 'ignore')\n",
        "warnings.filterwarnings('ignore')"
      ],
      "metadata": {
        "id": "ntPMtLqLRAML",
        "colab": {
          "base_uri": "https://localhost:8080/"
        },
        "outputId": "f791f510-700a-47ae-eec2-0300479f46f9"
      },
      "execution_count": 4,
      "outputs": [
        {
          "output_type": "stream",
          "name": "stderr",
          "text": [
            "/usr/local/lib/python3.10/dist-packages/ipykernel/ipkernel.py:283: DeprecationWarning: `should_run_async` will not call `transform_cell` automatically in the future. Please pass the result to `transformed_cell` argument and any exception that happen during thetransform in `preprocessing_exc_tuple` in IPython 7.17 and above.\n",
            "  and should_run_async(code)\n"
          ]
        }
      ]
    },
    {
      "cell_type": "markdown",
      "source": [
        "## Tiền xử lý dữ liệu"
      ],
      "metadata": {
        "id": "pQZ8hH4kRLkc"
      }
    },
    {
      "cell_type": "code",
      "execution_count": 5,
      "metadata": {
        "colab": {
          "base_uri": "https://localhost:8080/",
          "height": 226
        },
        "id": "fPk7d3utXUJY",
        "outputId": "9468e434-013e-42a4-80af-f5a5e7fdabd9"
      },
      "outputs": [
        {
          "output_type": "execute_result",
          "data": {
            "text/plain": [
              "  Booking_ID  no_of_adults  no_of_children  no_of_weekend_nights  \\\n",
              "0   INN00001             2               0                     1   \n",
              "1   INN00002             2               0                     2   \n",
              "2   INN00003             1               0                     2   \n",
              "3   INN00004             2               0                     0   \n",
              "4   INN00005             2               0                     1   \n",
              "\n",
              "   no_of_week_nights type_of_meal_plan  required_car_parking_space  \\\n",
              "0                  2       Meal Plan 1                           0   \n",
              "1                  3      Not Selected                           0   \n",
              "2                  1       Meal Plan 1                           0   \n",
              "3                  2       Meal Plan 1                           0   \n",
              "4                  1      Not Selected                           0   \n",
              "\n",
              "  room_type_reserved  lead_time  arrival_year  arrival_month  arrival_date  \\\n",
              "0        Room_Type 1        224          2017             10             2   \n",
              "1        Room_Type 1          5          2018             11             6   \n",
              "2        Room_Type 1          1          2018              2            28   \n",
              "3        Room_Type 1        211          2018              5            20   \n",
              "4        Room_Type 1         48          2018              4            11   \n",
              "\n",
              "  market_segment_type  repeated_guest  no_of_previous_cancellations  \\\n",
              "0             Offline               0                             0   \n",
              "1              Online               0                             0   \n",
              "2              Online               0                             0   \n",
              "3              Online               0                             0   \n",
              "4              Online               0                             0   \n",
              "\n",
              "   no_of_previous_bookings_not_canceled  avg_price_per_room  \\\n",
              "0                                     0               65.00   \n",
              "1                                     0              106.68   \n",
              "2                                     0               60.00   \n",
              "3                                     0              100.00   \n",
              "4                                     0               94.50   \n",
              "\n",
              "   no_of_special_requests booking_status  \n",
              "0                       0   Not_Canceled  \n",
              "1                       1   Not_Canceled  \n",
              "2                       0       Canceled  \n",
              "3                       0       Canceled  \n",
              "4                       0       Canceled  "
            ],
            "text/html": [
              "\n",
              "  <div id=\"df-1416353e-1f56-4f69-8afb-516c9bacc806\" class=\"colab-df-container\">\n",
              "    <div>\n",
              "<style scoped>\n",
              "    .dataframe tbody tr th:only-of-type {\n",
              "        vertical-align: middle;\n",
              "    }\n",
              "\n",
              "    .dataframe tbody tr th {\n",
              "        vertical-align: top;\n",
              "    }\n",
              "\n",
              "    .dataframe thead th {\n",
              "        text-align: right;\n",
              "    }\n",
              "</style>\n",
              "<table border=\"1\" class=\"dataframe\">\n",
              "  <thead>\n",
              "    <tr style=\"text-align: right;\">\n",
              "      <th></th>\n",
              "      <th>Booking_ID</th>\n",
              "      <th>no_of_adults</th>\n",
              "      <th>no_of_children</th>\n",
              "      <th>no_of_weekend_nights</th>\n",
              "      <th>no_of_week_nights</th>\n",
              "      <th>type_of_meal_plan</th>\n",
              "      <th>required_car_parking_space</th>\n",
              "      <th>room_type_reserved</th>\n",
              "      <th>lead_time</th>\n",
              "      <th>arrival_year</th>\n",
              "      <th>arrival_month</th>\n",
              "      <th>arrival_date</th>\n",
              "      <th>market_segment_type</th>\n",
              "      <th>repeated_guest</th>\n",
              "      <th>no_of_previous_cancellations</th>\n",
              "      <th>no_of_previous_bookings_not_canceled</th>\n",
              "      <th>avg_price_per_room</th>\n",
              "      <th>no_of_special_requests</th>\n",
              "      <th>booking_status</th>\n",
              "    </tr>\n",
              "  </thead>\n",
              "  <tbody>\n",
              "    <tr>\n",
              "      <th>0</th>\n",
              "      <td>INN00001</td>\n",
              "      <td>2</td>\n",
              "      <td>0</td>\n",
              "      <td>1</td>\n",
              "      <td>2</td>\n",
              "      <td>Meal Plan 1</td>\n",
              "      <td>0</td>\n",
              "      <td>Room_Type 1</td>\n",
              "      <td>224</td>\n",
              "      <td>2017</td>\n",
              "      <td>10</td>\n",
              "      <td>2</td>\n",
              "      <td>Offline</td>\n",
              "      <td>0</td>\n",
              "      <td>0</td>\n",
              "      <td>0</td>\n",
              "      <td>65.00</td>\n",
              "      <td>0</td>\n",
              "      <td>Not_Canceled</td>\n",
              "    </tr>\n",
              "    <tr>\n",
              "      <th>1</th>\n",
              "      <td>INN00002</td>\n",
              "      <td>2</td>\n",
              "      <td>0</td>\n",
              "      <td>2</td>\n",
              "      <td>3</td>\n",
              "      <td>Not Selected</td>\n",
              "      <td>0</td>\n",
              "      <td>Room_Type 1</td>\n",
              "      <td>5</td>\n",
              "      <td>2018</td>\n",
              "      <td>11</td>\n",
              "      <td>6</td>\n",
              "      <td>Online</td>\n",
              "      <td>0</td>\n",
              "      <td>0</td>\n",
              "      <td>0</td>\n",
              "      <td>106.68</td>\n",
              "      <td>1</td>\n",
              "      <td>Not_Canceled</td>\n",
              "    </tr>\n",
              "    <tr>\n",
              "      <th>2</th>\n",
              "      <td>INN00003</td>\n",
              "      <td>1</td>\n",
              "      <td>0</td>\n",
              "      <td>2</td>\n",
              "      <td>1</td>\n",
              "      <td>Meal Plan 1</td>\n",
              "      <td>0</td>\n",
              "      <td>Room_Type 1</td>\n",
              "      <td>1</td>\n",
              "      <td>2018</td>\n",
              "      <td>2</td>\n",
              "      <td>28</td>\n",
              "      <td>Online</td>\n",
              "      <td>0</td>\n",
              "      <td>0</td>\n",
              "      <td>0</td>\n",
              "      <td>60.00</td>\n",
              "      <td>0</td>\n",
              "      <td>Canceled</td>\n",
              "    </tr>\n",
              "    <tr>\n",
              "      <th>3</th>\n",
              "      <td>INN00004</td>\n",
              "      <td>2</td>\n",
              "      <td>0</td>\n",
              "      <td>0</td>\n",
              "      <td>2</td>\n",
              "      <td>Meal Plan 1</td>\n",
              "      <td>0</td>\n",
              "      <td>Room_Type 1</td>\n",
              "      <td>211</td>\n",
              "      <td>2018</td>\n",
              "      <td>5</td>\n",
              "      <td>20</td>\n",
              "      <td>Online</td>\n",
              "      <td>0</td>\n",
              "      <td>0</td>\n",
              "      <td>0</td>\n",
              "      <td>100.00</td>\n",
              "      <td>0</td>\n",
              "      <td>Canceled</td>\n",
              "    </tr>\n",
              "    <tr>\n",
              "      <th>4</th>\n",
              "      <td>INN00005</td>\n",
              "      <td>2</td>\n",
              "      <td>0</td>\n",
              "      <td>1</td>\n",
              "      <td>1</td>\n",
              "      <td>Not Selected</td>\n",
              "      <td>0</td>\n",
              "      <td>Room_Type 1</td>\n",
              "      <td>48</td>\n",
              "      <td>2018</td>\n",
              "      <td>4</td>\n",
              "      <td>11</td>\n",
              "      <td>Online</td>\n",
              "      <td>0</td>\n",
              "      <td>0</td>\n",
              "      <td>0</td>\n",
              "      <td>94.50</td>\n",
              "      <td>0</td>\n",
              "      <td>Canceled</td>\n",
              "    </tr>\n",
              "  </tbody>\n",
              "</table>\n",
              "</div>\n",
              "    <div class=\"colab-df-buttons\">\n",
              "\n",
              "  <div class=\"colab-df-container\">\n",
              "    <button class=\"colab-df-convert\" onclick=\"convertToInteractive('df-1416353e-1f56-4f69-8afb-516c9bacc806')\"\n",
              "            title=\"Convert this dataframe to an interactive table.\"\n",
              "            style=\"display:none;\">\n",
              "\n",
              "  <svg xmlns=\"http://www.w3.org/2000/svg\" height=\"24px\" viewBox=\"0 -960 960 960\">\n",
              "    <path d=\"M120-120v-720h720v720H120Zm60-500h600v-160H180v160Zm220 220h160v-160H400v160Zm0 220h160v-160H400v160ZM180-400h160v-160H180v160Zm440 0h160v-160H620v160ZM180-180h160v-160H180v160Zm440 0h160v-160H620v160Z\"/>\n",
              "  </svg>\n",
              "    </button>\n",
              "\n",
              "  <style>\n",
              "    .colab-df-container {\n",
              "      display:flex;\n",
              "      gap: 12px;\n",
              "    }\n",
              "\n",
              "    .colab-df-convert {\n",
              "      background-color: #E8F0FE;\n",
              "      border: none;\n",
              "      border-radius: 50%;\n",
              "      cursor: pointer;\n",
              "      display: none;\n",
              "      fill: #1967D2;\n",
              "      height: 32px;\n",
              "      padding: 0 0 0 0;\n",
              "      width: 32px;\n",
              "    }\n",
              "\n",
              "    .colab-df-convert:hover {\n",
              "      background-color: #E2EBFA;\n",
              "      box-shadow: 0px 1px 2px rgba(60, 64, 67, 0.3), 0px 1px 3px 1px rgba(60, 64, 67, 0.15);\n",
              "      fill: #174EA6;\n",
              "    }\n",
              "\n",
              "    .colab-df-buttons div {\n",
              "      margin-bottom: 4px;\n",
              "    }\n",
              "\n",
              "    [theme=dark] .colab-df-convert {\n",
              "      background-color: #3B4455;\n",
              "      fill: #D2E3FC;\n",
              "    }\n",
              "\n",
              "    [theme=dark] .colab-df-convert:hover {\n",
              "      background-color: #434B5C;\n",
              "      box-shadow: 0px 1px 3px 1px rgba(0, 0, 0, 0.15);\n",
              "      filter: drop-shadow(0px 1px 2px rgba(0, 0, 0, 0.3));\n",
              "      fill: #FFFFFF;\n",
              "    }\n",
              "  </style>\n",
              "\n",
              "    <script>\n",
              "      const buttonEl =\n",
              "        document.querySelector('#df-1416353e-1f56-4f69-8afb-516c9bacc806 button.colab-df-convert');\n",
              "      buttonEl.style.display =\n",
              "        google.colab.kernel.accessAllowed ? 'block' : 'none';\n",
              "\n",
              "      async function convertToInteractive(key) {\n",
              "        const element = document.querySelector('#df-1416353e-1f56-4f69-8afb-516c9bacc806');\n",
              "        const dataTable =\n",
              "          await google.colab.kernel.invokeFunction('convertToInteractive',\n",
              "                                                    [key], {});\n",
              "        if (!dataTable) return;\n",
              "\n",
              "        const docLinkHtml = 'Like what you see? Visit the ' +\n",
              "          '<a target=\"_blank\" href=https://colab.research.google.com/notebooks/data_table.ipynb>data table notebook</a>'\n",
              "          + ' to learn more about interactive tables.';\n",
              "        element.innerHTML = '';\n",
              "        dataTable['output_type'] = 'display_data';\n",
              "        await google.colab.output.renderOutput(dataTable, element);\n",
              "        const docLink = document.createElement('div');\n",
              "        docLink.innerHTML = docLinkHtml;\n",
              "        element.appendChild(docLink);\n",
              "      }\n",
              "    </script>\n",
              "  </div>\n",
              "\n",
              "\n",
              "<div id=\"df-07501ccc-2b03-4e22-a73f-e582065b9e58\">\n",
              "  <button class=\"colab-df-quickchart\" onclick=\"quickchart('df-07501ccc-2b03-4e22-a73f-e582065b9e58')\"\n",
              "            title=\"Suggest charts\"\n",
              "            style=\"display:none;\">\n",
              "\n",
              "<svg xmlns=\"http://www.w3.org/2000/svg\" height=\"24px\"viewBox=\"0 0 24 24\"\n",
              "     width=\"24px\">\n",
              "    <g>\n",
              "        <path d=\"M19 3H5c-1.1 0-2 .9-2 2v14c0 1.1.9 2 2 2h14c1.1 0 2-.9 2-2V5c0-1.1-.9-2-2-2zM9 17H7v-7h2v7zm4 0h-2V7h2v10zm4 0h-2v-4h2v4z\"/>\n",
              "    </g>\n",
              "</svg>\n",
              "  </button>\n",
              "\n",
              "<style>\n",
              "  .colab-df-quickchart {\n",
              "      --bg-color: #E8F0FE;\n",
              "      --fill-color: #1967D2;\n",
              "      --hover-bg-color: #E2EBFA;\n",
              "      --hover-fill-color: #174EA6;\n",
              "      --disabled-fill-color: #AAA;\n",
              "      --disabled-bg-color: #DDD;\n",
              "  }\n",
              "\n",
              "  [theme=dark] .colab-df-quickchart {\n",
              "      --bg-color: #3B4455;\n",
              "      --fill-color: #D2E3FC;\n",
              "      --hover-bg-color: #434B5C;\n",
              "      --hover-fill-color: #FFFFFF;\n",
              "      --disabled-bg-color: #3B4455;\n",
              "      --disabled-fill-color: #666;\n",
              "  }\n",
              "\n",
              "  .colab-df-quickchart {\n",
              "    background-color: var(--bg-color);\n",
              "    border: none;\n",
              "    border-radius: 50%;\n",
              "    cursor: pointer;\n",
              "    display: none;\n",
              "    fill: var(--fill-color);\n",
              "    height: 32px;\n",
              "    padding: 0;\n",
              "    width: 32px;\n",
              "  }\n",
              "\n",
              "  .colab-df-quickchart:hover {\n",
              "    background-color: var(--hover-bg-color);\n",
              "    box-shadow: 0 1px 2px rgba(60, 64, 67, 0.3), 0 1px 3px 1px rgba(60, 64, 67, 0.15);\n",
              "    fill: var(--button-hover-fill-color);\n",
              "  }\n",
              "\n",
              "  .colab-df-quickchart-complete:disabled,\n",
              "  .colab-df-quickchart-complete:disabled:hover {\n",
              "    background-color: var(--disabled-bg-color);\n",
              "    fill: var(--disabled-fill-color);\n",
              "    box-shadow: none;\n",
              "  }\n",
              "\n",
              "  .colab-df-spinner {\n",
              "    border: 2px solid var(--fill-color);\n",
              "    border-color: transparent;\n",
              "    border-bottom-color: var(--fill-color);\n",
              "    animation:\n",
              "      spin 1s steps(1) infinite;\n",
              "  }\n",
              "\n",
              "  @keyframes spin {\n",
              "    0% {\n",
              "      border-color: transparent;\n",
              "      border-bottom-color: var(--fill-color);\n",
              "      border-left-color: var(--fill-color);\n",
              "    }\n",
              "    20% {\n",
              "      border-color: transparent;\n",
              "      border-left-color: var(--fill-color);\n",
              "      border-top-color: var(--fill-color);\n",
              "    }\n",
              "    30% {\n",
              "      border-color: transparent;\n",
              "      border-left-color: var(--fill-color);\n",
              "      border-top-color: var(--fill-color);\n",
              "      border-right-color: var(--fill-color);\n",
              "    }\n",
              "    40% {\n",
              "      border-color: transparent;\n",
              "      border-right-color: var(--fill-color);\n",
              "      border-top-color: var(--fill-color);\n",
              "    }\n",
              "    60% {\n",
              "      border-color: transparent;\n",
              "      border-right-color: var(--fill-color);\n",
              "    }\n",
              "    80% {\n",
              "      border-color: transparent;\n",
              "      border-right-color: var(--fill-color);\n",
              "      border-bottom-color: var(--fill-color);\n",
              "    }\n",
              "    90% {\n",
              "      border-color: transparent;\n",
              "      border-bottom-color: var(--fill-color);\n",
              "    }\n",
              "  }\n",
              "</style>\n",
              "\n",
              "  <script>\n",
              "    async function quickchart(key) {\n",
              "      const quickchartButtonEl =\n",
              "        document.querySelector('#' + key + ' button');\n",
              "      quickchartButtonEl.disabled = true;  // To prevent multiple clicks.\n",
              "      quickchartButtonEl.classList.add('colab-df-spinner');\n",
              "      try {\n",
              "        const charts = await google.colab.kernel.invokeFunction(\n",
              "            'suggestCharts', [key], {});\n",
              "      } catch (error) {\n",
              "        console.error('Error during call to suggestCharts:', error);\n",
              "      }\n",
              "      quickchartButtonEl.classList.remove('colab-df-spinner');\n",
              "      quickchartButtonEl.classList.add('colab-df-quickchart-complete');\n",
              "    }\n",
              "    (() => {\n",
              "      let quickchartButtonEl =\n",
              "        document.querySelector('#df-07501ccc-2b03-4e22-a73f-e582065b9e58 button');\n",
              "      quickchartButtonEl.style.display =\n",
              "        google.colab.kernel.accessAllowed ? 'block' : 'none';\n",
              "    })();\n",
              "  </script>\n",
              "</div>\n",
              "    </div>\n",
              "  </div>\n"
            ]
          },
          "metadata": {},
          "execution_count": 5
        }
      ],
      "source": [
        "df = pd.read_csv('Hotel Reservations.csv')\n",
        "\n",
        "df.head(5)"
      ]
    },
    {
      "cell_type": "markdown",
      "source": [
        "### Thăm dò dữ liệu"
      ],
      "metadata": {
        "id": "mEXcUD-tSkmg"
      }
    },
    {
      "cell_type": "markdown",
      "source": [
        "Hiển thị thông tin bộ dữ liệu."
      ],
      "metadata": {
        "id": "sI8-1ppZS7Ce"
      }
    },
    {
      "cell_type": "code",
      "source": [
        "print(f'Kích thước của bộ dữ liệu gồm {df.shape[0]} dòng và {df.shape[1]} cột.')"
      ],
      "metadata": {
        "colab": {
          "base_uri": "https://localhost:8080/"
        },
        "id": "9UV3p33KS4Wq",
        "outputId": "a10c0c9e-3537-4315-96a5-a8a120b10de3"
      },
      "execution_count": 6,
      "outputs": [
        {
          "output_type": "stream",
          "name": "stdout",
          "text": [
            "Kích thước của bộ dữ liệu gồm 36275 dòng và 19 cột.\n"
          ]
        }
      ]
    },
    {
      "cell_type": "code",
      "source": [
        "df.info()"
      ],
      "metadata": {
        "colab": {
          "base_uri": "https://localhost:8080/"
        },
        "id": "9CdcKRNRS_Ez",
        "outputId": "45254a89-167c-4db5-bfc0-56687f6980e3"
      },
      "execution_count": 7,
      "outputs": [
        {
          "output_type": "stream",
          "name": "stdout",
          "text": [
            "<class 'pandas.core.frame.DataFrame'>\n",
            "RangeIndex: 36275 entries, 0 to 36274\n",
            "Data columns (total 19 columns):\n",
            " #   Column                                Non-Null Count  Dtype  \n",
            "---  ------                                --------------  -----  \n",
            " 0   Booking_ID                            36275 non-null  object \n",
            " 1   no_of_adults                          36275 non-null  int64  \n",
            " 2   no_of_children                        36275 non-null  int64  \n",
            " 3   no_of_weekend_nights                  36275 non-null  int64  \n",
            " 4   no_of_week_nights                     36275 non-null  int64  \n",
            " 5   type_of_meal_plan                     36275 non-null  object \n",
            " 6   required_car_parking_space            36275 non-null  int64  \n",
            " 7   room_type_reserved                    36275 non-null  object \n",
            " 8   lead_time                             36275 non-null  int64  \n",
            " 9   arrival_year                          36275 non-null  int64  \n",
            " 10  arrival_month                         36275 non-null  int64  \n",
            " 11  arrival_date                          36275 non-null  int64  \n",
            " 12  market_segment_type                   36275 non-null  object \n",
            " 13  repeated_guest                        36275 non-null  int64  \n",
            " 14  no_of_previous_cancellations          36275 non-null  int64  \n",
            " 15  no_of_previous_bookings_not_canceled  36275 non-null  int64  \n",
            " 16  avg_price_per_room                    36275 non-null  float64\n",
            " 17  no_of_special_requests                36275 non-null  int64  \n",
            " 18  booking_status                        36275 non-null  object \n",
            "dtypes: float64(1), int64(13), object(5)\n",
            "memory usage: 5.3+ MB\n"
          ]
        }
      ]
    },
    {
      "cell_type": "code",
      "source": [
        "# In số giá trị duy nhất của mỗi cột\n",
        "df.nunique()"
      ],
      "metadata": {
        "colab": {
          "base_uri": "https://localhost:8080/"
        },
        "id": "IwFevR47zRla",
        "outputId": "274c650c-1696-458a-ac87-93875d680481"
      },
      "execution_count": 8,
      "outputs": [
        {
          "output_type": "execute_result",
          "data": {
            "text/plain": [
              "Booking_ID                              36275\n",
              "no_of_adults                                5\n",
              "no_of_children                              6\n",
              "no_of_weekend_nights                        8\n",
              "no_of_week_nights                          18\n",
              "type_of_meal_plan                           4\n",
              "required_car_parking_space                  2\n",
              "room_type_reserved                          7\n",
              "lead_time                                 352\n",
              "arrival_year                                2\n",
              "arrival_month                              12\n",
              "arrival_date                               31\n",
              "market_segment_type                         5\n",
              "repeated_guest                              2\n",
              "no_of_previous_cancellations                9\n",
              "no_of_previous_bookings_not_canceled       59\n",
              "avg_price_per_room                       3930\n",
              "no_of_special_requests                      6\n",
              "booking_status                              2\n",
              "dtype: int64"
            ]
          },
          "metadata": {},
          "execution_count": 8
        }
      ]
    },
    {
      "cell_type": "code",
      "source": [
        "# In các giá trị duy nhất của các cột kiểu object\n",
        "for column in df.select_dtypes(include=['object']).columns:\n",
        "    unique_values = df[column].unique()\n",
        "    print(f'Cột {column}:', unique_values)"
      ],
      "metadata": {
        "colab": {
          "base_uri": "https://localhost:8080/"
        },
        "id": "GceDnYlt0hUY",
        "outputId": "94c310eb-9539-4773-9d81-1d3ecdac3237"
      },
      "execution_count": 9,
      "outputs": [
        {
          "output_type": "stream",
          "name": "stdout",
          "text": [
            "Cột Booking_ID: ['INN00001' 'INN00002' 'INN00003' ... 'INN36273' 'INN36274' 'INN36275']\n",
            "Cột type_of_meal_plan: ['Meal Plan 1' 'Not Selected' 'Meal Plan 2' 'Meal Plan 3']\n",
            "Cột room_type_reserved: ['Room_Type 1' 'Room_Type 4' 'Room_Type 2' 'Room_Type 6' 'Room_Type 5'\n",
            " 'Room_Type 7' 'Room_Type 3']\n",
            "Cột market_segment_type: ['Offline' 'Online' 'Corporate' 'Aviation' 'Complementary']\n",
            "Cột booking_status: ['Not_Canceled' 'Canceled']\n"
          ]
        }
      ]
    },
    {
      "cell_type": "code",
      "source": [
        "# In các giá trị duy nhất của các cột kiểu number\n",
        "for column in df.select_dtypes(include=['number']).columns:\n",
        "    unique_values = df[column].unique()\n",
        "    print(f'Cột {column}:', unique_values)"
      ],
      "metadata": {
        "colab": {
          "base_uri": "https://localhost:8080/"
        },
        "id": "sBEkZ1VLajWp",
        "outputId": "279c6364-6ffd-4fc1-ab41-8f3dbe3a9d75"
      },
      "execution_count": 10,
      "outputs": [
        {
          "output_type": "stream",
          "name": "stdout",
          "text": [
            "Cột no_of_adults: [2 1 3 0 4]\n",
            "Cột no_of_children: [ 0  2  1  3 10  9]\n",
            "Cột no_of_weekend_nights: [1 2 0 4 3 6 5 7]\n",
            "Cột no_of_week_nights: [ 2  3  1  4  5  0 10  6 11  7 15  9 13  8 14 12 17 16]\n",
            "Cột required_car_parking_space: [0 1]\n",
            "Cột lead_time: [224   5   1 211  48 346  34  83 121  44   0  35  30  95  47 256  99  12\n",
            " 122   2  37 130  60  56   3 107  72  23 289 247 186  64  96  41  55 146\n",
            "  32  57   7 124 169   6  51  13 100 139 117  39  86  19 192 179  26  74\n",
            " 143 177  18 267 155  46 128  20  40 196 188  17 110  68  73  92 171 134\n",
            " 320 118 189  16  24   8  10 182 116 123 105 443 317 286 148  14  85  25\n",
            "  28  80  11 162  82  27 245 266 112  88  69 273   4  97  31  62 197 280\n",
            " 185 160 104  22 292 109 126 303  81  54  15 161 147  87 127 418 156  58\n",
            " 433 111 195 119  59  78 335 103  70  76 144  49  77  36  79  21  33 164\n",
            " 152  43 102  71 209  93  53 302 239  45 167 113  84   9 166 174  61 151\n",
            "  52  67 282  38 175  89 133  65  66  50 159 386 115 237 125  91  29 221\n",
            " 213 198  75 180 236 120 230  63 136 309 157 268 217  94 305  98  42 154\n",
            " 330 137 184 232 304 114 257 265 191 101 259 149 170 271 207 108 210 222\n",
            " 296 194 145 153 275 158 301 349 200 315 181 263 176 141 270 150 359 244\n",
            " 219 142 138 276 178 163 377 290 216 226 258 254 193 131 208 215 190 381\n",
            " 231 248 106 308 140 173 168 172  90 249 205 129 212 135 220 277 253 132\n",
            " 183 255 223 336 288 229 319 199 203 228 246 235 294 281 202 361 287 291\n",
            " 313 206 269 279 261 214 274 250 187 240 241 323 322 227 225 233 338 283\n",
            " 327 204 352 165 251 299 314 285 238 328 278 332 243 201 307 272 252 242\n",
            " 284 297 324 260 262 326 295 218 234 353 300 355 306 298 331 341 318 333\n",
            " 372 311 310 345 264 325 293 348 350 351]\n",
            "Cột arrival_year: [2017 2018]\n",
            "Cột arrival_month: [10 11  2  5  4  9 12  7  6  8  3  1]\n",
            "Cột arrival_date: [ 2  6 28 20 11 13 15 26 18 30  5 10  4 25 22 21 19 17  7  9 27  1 29 16\n",
            "  3 24 14 31 23  8 12]\n",
            "Cột repeated_guest: [0 1]\n",
            "Cột no_of_previous_cancellations: [ 0  3  1  2 11  4  5 13  6]\n",
            "Cột no_of_previous_bookings_not_canceled: [ 0  5  1  3  4 12 19  2 15 17  7 20 16 50 13  6 14 34 18  8 10 23 11 49\n",
            " 47 53  9 33 22 24 52 21 48 28 39 25 31 38 26 51 42 37 35 56 44 27 32 55\n",
            " 45 30 57 46 54 43 58 41 29 40 36]\n",
            "Cột avg_price_per_room: [ 65.   106.68  60.   ... 118.43 137.25 167.8 ]\n",
            "Cột no_of_special_requests: [0 1 3 2 4 5]\n"
          ]
        }
      ]
    },
    {
      "cell_type": "code",
      "source": [
        "# Loại bỏ cột Booking_ID\n",
        "df = df.drop(columns = ['Booking_ID'])"
      ],
      "metadata": {
        "id": "pgofuU7AcXNQ"
      },
      "execution_count": 11,
      "outputs": []
    },
    {
      "cell_type": "code",
      "source": [
        "# Chuyển kiểu cột dữ liệu\n",
        "df['repeated_guest'] = df['repeated_guest'].astype(object)\n",
        "df['required_car_parking_space'] = df['required_car_parking_space'].astype(object)"
      ],
      "metadata": {
        "id": "1ZtJcfigaM5C"
      },
      "execution_count": 12,
      "outputs": []
    },
    {
      "cell_type": "code",
      "source": [
        "# Đặt cột class là target\n",
        "target = df['booking_status']\n",
        "df = df.drop(columns = 'booking_status')"
      ],
      "metadata": {
        "id": "YMFZHgn6zA50"
      },
      "execution_count": 13,
      "outputs": []
    },
    {
      "cell_type": "code",
      "source": [
        "# In số giá trị duy nhất của cột target\n",
        "tar_unique_values = target.unique()\n",
        "tar_unique_values"
      ],
      "metadata": {
        "colab": {
          "base_uri": "https://localhost:8080/"
        },
        "id": "gkCTNNNzZrs5",
        "outputId": "c821f091-9930-4598-83d1-48ad900cf92b"
      },
      "execution_count": 14,
      "outputs": [
        {
          "output_type": "execute_result",
          "data": {
            "text/plain": [
              "array(['Not_Canceled', 'Canceled'], dtype=object)"
            ]
          },
          "metadata": {},
          "execution_count": 14
        }
      ]
    },
    {
      "cell_type": "markdown",
      "source": [
        "### Làm sạch dữ liệu"
      ],
      "metadata": {
        "id": "zJdnObNiU_ay"
      }
    },
    {
      "cell_type": "markdown",
      "source": [
        "Kiểm tra giá trị thiếu."
      ],
      "metadata": {
        "id": "vZpkuGFFVFr8"
      }
    },
    {
      "cell_type": "code",
      "source": [
        "df.isnull().sum()"
      ],
      "metadata": {
        "colab": {
          "base_uri": "https://localhost:8080/"
        },
        "id": "tEDU-kcZVIvs",
        "outputId": "93b92c5f-3f36-4639-e912-fd469e323504"
      },
      "execution_count": 15,
      "outputs": [
        {
          "output_type": "execute_result",
          "data": {
            "text/plain": [
              "no_of_adults                            0\n",
              "no_of_children                          0\n",
              "no_of_weekend_nights                    0\n",
              "no_of_week_nights                       0\n",
              "type_of_meal_plan                       0\n",
              "required_car_parking_space              0\n",
              "room_type_reserved                      0\n",
              "lead_time                               0\n",
              "arrival_year                            0\n",
              "arrival_month                           0\n",
              "arrival_date                            0\n",
              "market_segment_type                     0\n",
              "repeated_guest                          0\n",
              "no_of_previous_cancellations            0\n",
              "no_of_previous_bookings_not_canceled    0\n",
              "avg_price_per_room                      0\n",
              "no_of_special_requests                  0\n",
              "dtype: int64"
            ]
          },
          "metadata": {},
          "execution_count": 15
        }
      ]
    },
    {
      "cell_type": "markdown",
      "source": [
        "Kiểm tra giá trị nhiễu."
      ],
      "metadata": {
        "id": "xBuUQoNNVMzy"
      }
    },
    {
      "cell_type": "code",
      "source": [
        "# Sử dụng hàm để kiểm tra outlier cho tất cả các cột trong DataFrame\n",
        "def check_outliers_using_3_sigma(df):\n",
        "    has_outliers = True\n",
        "    while has_outliers:\n",
        "        has_outliers = False\n",
        "        for col in df.columns:\n",
        "            if df[col].dtype in ['int64', 'float64']:\n",
        "                lech3sigma_tren = round(df[col].mean() + 3 * df[col].std(ddof=1))\n",
        "                lech3sigma_duoi = round(df[col].mean() - 3 * df[col].std(ddof=1))\n",
        "                df_filter = df[(df[col] > lech3sigma_tren) | (df[col] < lech3sigma_duoi)]\n",
        "\n",
        "                if df_filter[col].count() > 0:\n",
        "                    print(f'Cột {col} có {df_filter[col].count()} giá trị nhiễu là các giá trị ngoài khoảng ({lech3sigma_duoi}, {lech3sigma_tren})')\n",
        "                    # Thay thế nhiễu bằng trung vị\n",
        "                    trungvi = df[col].median()\n",
        "                    df.loc[(df[col] > lech3sigma_tren) | (df[col] < lech3sigma_duoi), col] = trungvi\n",
        "                    has_outliers = True\n",
        "                else:\n",
        "                    print(f'Cột {col}: Không có outlier.')\n",
        "\n",
        "# Gọi hàm trên DataFrame df\n",
        "check_outliers_using_3_sigma(df)"
      ],
      "metadata": {
        "colab": {
          "base_uri": "https://localhost:8080/"
        },
        "id": "6m7ZrxtTbF5A",
        "outputId": "24282d98-5ac5-49db-ef7b-1ef2a35b3c27"
      },
      "execution_count": 16,
      "outputs": [
        {
          "output_type": "stream",
          "name": "stdout",
          "text": [
            "Cột no_of_adults có 16 giá trị nhiễu là các giá trị ngoài khoảng (0, 3)\n",
            "Cột no_of_children có 1080 giá trị nhiễu là các giá trị ngoài khoảng (-1, 1)\n",
            "Cột no_of_weekend_nights có 184 giá trị nhiễu là các giá trị ngoài khoảng (-2, 3)\n",
            "Cột no_of_week_nights có 324 giá trị nhiễu là các giá trị ngoài khoảng (-2, 6)\n",
            "Cột lead_time có 376 giá trị nhiễu là các giá trị ngoài khoảng (-173, 343)\n",
            "Cột arrival_year: Không có outlier.\n",
            "Cột arrival_month: Không có outlier.\n",
            "Cột arrival_date: Không có outlier.\n",
            "Cột no_of_previous_cancellations có 140 giá trị nhiễu là các giá trị ngoài khoảng (-1, 1)\n",
            "Cột no_of_previous_bookings_not_canceled có 267 giá trị nhiễu là các giá trị ngoài khoảng (-5, 5)\n",
            "Cột avg_price_per_room có 353 giá trị nhiễu là các giá trị ngoài khoảng (-2, 209)\n",
            "Cột no_of_special_requests có 86 giá trị nhiễu là các giá trị ngoài khoảng (-2, 3)\n",
            "Cột no_of_adults: Không có outlier.\n",
            "Cột no_of_children: Không có outlier.\n",
            "Cột no_of_weekend_nights: Không có outlier.\n",
            "Cột no_of_week_nights: Không có outlier.\n",
            "Cột lead_time có 100 giá trị nhiễu là các giá trị ngoài khoảng (-159, 323)\n",
            "Cột arrival_year: Không có outlier.\n",
            "Cột arrival_month: Không có outlier.\n",
            "Cột arrival_date: Không có outlier.\n",
            "Cột no_of_previous_cancellations có 198 giá trị nhiễu là các giá trị ngoài khoảng (0, 0)\n",
            "Cột no_of_previous_bookings_not_canceled có 317 giá trị nhiễu là các giá trị ngoài khoảng (-1, 1)\n",
            "Cột avg_price_per_room có 737 giá trị nhiễu là các giá trị ngoài khoảng (5, 199)\n",
            "Cột no_of_special_requests: Không có outlier.\n",
            "Cột no_of_adults: Không có outlier.\n",
            "Cột no_of_children: Không có outlier.\n",
            "Cột no_of_weekend_nights: Không có outlier.\n",
            "Cột no_of_week_nights: Không có outlier.\n",
            "Cột lead_time có 141 giá trị nhiễu là các giá trị ngoài khoảng (-157, 319)\n",
            "Cột arrival_year: Không có outlier.\n",
            "Cột arrival_month: Không có outlier.\n",
            "Cột arrival_date: Không có outlier.\n",
            "Cột no_of_previous_cancellations: Không có outlier.\n",
            "Cột no_of_previous_bookings_not_canceled có 228 giá trị nhiễu là các giá trị ngoài khoảng (0, 0)\n",
            "Cột avg_price_per_room có 257 giá trị nhiễu là các giá trị ngoài khoảng (16, 190)\n",
            "Cột no_of_special_requests: Không có outlier.\n",
            "Cột no_of_adults: Không có outlier.\n",
            "Cột no_of_children: Không có outlier.\n",
            "Cột no_of_weekend_nights: Không có outlier.\n",
            "Cột no_of_week_nights: Không có outlier.\n",
            "Cột lead_time có 102 giá trị nhiễu là các giá trị ngoài khoảng (-153, 314)\n",
            "Cột arrival_year: Không có outlier.\n",
            "Cột arrival_month: Không có outlier.\n",
            "Cột arrival_date: Không có outlier.\n",
            "Cột no_of_previous_cancellations: Không có outlier.\n",
            "Cột no_of_previous_bookings_not_canceled: Không có outlier.\n",
            "Cột avg_price_per_room có 76 giá trị nhiễu là các giá trị ngoài khoảng (19, 187)\n",
            "Cột no_of_special_requests: Không có outlier.\n",
            "Cột no_of_adults: Không có outlier.\n",
            "Cột no_of_children: Không có outlier.\n",
            "Cột no_of_weekend_nights: Không có outlier.\n",
            "Cột no_of_week_nights: Không có outlier.\n",
            "Cột lead_time có 29 giá trị nhiễu là các giá trị ngoài khoảng (-151, 310)\n",
            "Cột arrival_year: Không có outlier.\n",
            "Cột arrival_month: Không có outlier.\n",
            "Cột arrival_date: Không có outlier.\n",
            "Cột no_of_previous_cancellations: Không có outlier.\n",
            "Cột no_of_previous_bookings_not_canceled: Không có outlier.\n",
            "Cột avg_price_per_room có 94 giá trị nhiễu là các giá trị ngoài khoảng (20, 185)\n",
            "Cột no_of_special_requests: Không có outlier.\n",
            "Cột no_of_adults: Không có outlier.\n",
            "Cột no_of_children: Không có outlier.\n",
            "Cột no_of_weekend_nights: Không có outlier.\n",
            "Cột no_of_week_nights: Không có outlier.\n",
            "Cột lead_time có 3 giá trị nhiễu là các giá trị ngoài khoảng (-151, 309)\n",
            "Cột arrival_year: Không có outlier.\n",
            "Cột arrival_month: Không có outlier.\n",
            "Cột arrival_date: Không có outlier.\n",
            "Cột no_of_previous_cancellations: Không có outlier.\n",
            "Cột no_of_previous_bookings_not_canceled: Không có outlier.\n",
            "Cột avg_price_per_room có 46 giá trị nhiễu là các giá trị ngoài khoảng (20, 184)\n",
            "Cột no_of_special_requests: Không có outlier.\n",
            "Cột no_of_adults: Không có outlier.\n",
            "Cột no_of_children: Không có outlier.\n",
            "Cột no_of_weekend_nights: Không có outlier.\n",
            "Cột no_of_week_nights: Không có outlier.\n",
            "Cột lead_time: Không có outlier.\n",
            "Cột arrival_year: Không có outlier.\n",
            "Cột arrival_month: Không có outlier.\n",
            "Cột arrival_date: Không có outlier.\n",
            "Cột no_of_previous_cancellations: Không có outlier.\n",
            "Cột no_of_previous_bookings_not_canceled: Không có outlier.\n",
            "Cột avg_price_per_room có 2 giá trị nhiễu là các giá trị ngoài khoảng (21, 184)\n",
            "Cột no_of_special_requests: Không có outlier.\n",
            "Cột no_of_adults: Không có outlier.\n",
            "Cột no_of_children: Không có outlier.\n",
            "Cột no_of_weekend_nights: Không có outlier.\n",
            "Cột no_of_week_nights: Không có outlier.\n",
            "Cột lead_time: Không có outlier.\n",
            "Cột arrival_year: Không có outlier.\n",
            "Cột arrival_month: Không có outlier.\n",
            "Cột arrival_date: Không có outlier.\n",
            "Cột no_of_previous_cancellations: Không có outlier.\n",
            "Cột no_of_previous_bookings_not_canceled: Không có outlier.\n",
            "Cột avg_price_per_room: Không có outlier.\n",
            "Cột no_of_special_requests: Không có outlier.\n"
          ]
        }
      ]
    },
    {
      "cell_type": "markdown",
      "source": [
        "Rời rạc hóa dữ liệu là các biến liên tục."
      ],
      "metadata": {
        "id": "ynUk8CEqbzaP"
      }
    },
    {
      "cell_type": "code",
      "source": [
        "# Rời rạc các biến lead_time và avg_price_per_room\n",
        "df['lead_time_group'] = pd.qcut(df['lead_time'], 4)\n",
        "df['avg_price_per_room_group'] = pd.qcut(df['avg_price_per_room'], 4)\n",
        "df = df.drop(columns = ['lead_time', 'avg_price_per_room'])"
      ],
      "metadata": {
        "id": "wOjtMfHLb8P9"
      },
      "execution_count": 17,
      "outputs": []
    },
    {
      "cell_type": "code",
      "source": [
        "df = df.astype(object)"
      ],
      "metadata": {
        "id": "KVxyi03jcPSD"
      },
      "execution_count": 18,
      "outputs": []
    },
    {
      "cell_type": "code",
      "source": [
        "columns_to_exclude = ['type_of_meal_plan', 'room_type_reserved', 'market_segment_type']\n",
        "\n",
        "# Chuyển giá trị ở các ô thành chuỗi có dạng \"tên cột (giá trị ở ô tương ứng)\" cho các cột trừ các cột có giá trị số rời rạc và nhị phân\n",
        "df = df.apply(lambda x: x.astype(str).map(lambda y: f'{x.name} ({y})') if x.name not in columns_to_exclude else x)"
      ],
      "metadata": {
        "id": "8-13lfhrcqVk"
      },
      "execution_count": 19,
      "outputs": []
    },
    {
      "cell_type": "code",
      "source": [
        "df.shape"
      ],
      "metadata": {
        "colab": {
          "base_uri": "https://localhost:8080/"
        },
        "id": "xbKDGizmz5O8",
        "outputId": "06bc282a-85c0-4575-ab5b-f6eacad171c0"
      },
      "execution_count": 20,
      "outputs": [
        {
          "output_type": "execute_result",
          "data": {
            "text/plain": [
              "(36275, 17)"
            ]
          },
          "metadata": {},
          "execution_count": 20
        }
      ]
    },
    {
      "cell_type": "code",
      "source": [
        "df.head(5)"
      ],
      "metadata": {
        "colab": {
          "base_uri": "https://localhost:8080/",
          "height": 313
        },
        "id": "gbHfeOcez3Vq",
        "outputId": "a059368a-1127-4492-e17e-28d4e018d0eb"
      },
      "execution_count": 21,
      "outputs": [
        {
          "output_type": "execute_result",
          "data": {
            "text/plain": [
              "       no_of_adults      no_of_children      no_of_weekend_nights  \\\n",
              "0  no_of_adults (2)  no_of_children (0)  no_of_weekend_nights (1)   \n",
              "1  no_of_adults (2)  no_of_children (0)  no_of_weekend_nights (2)   \n",
              "2  no_of_adults (1)  no_of_children (0)  no_of_weekend_nights (2)   \n",
              "3  no_of_adults (2)  no_of_children (0)  no_of_weekend_nights (0)   \n",
              "4  no_of_adults (2)  no_of_children (0)  no_of_weekend_nights (1)   \n",
              "\n",
              "       no_of_week_nights type_of_meal_plan      required_car_parking_space  \\\n",
              "0  no_of_week_nights (2)       Meal Plan 1  required_car_parking_space (0)   \n",
              "1  no_of_week_nights (3)      Not Selected  required_car_parking_space (0)   \n",
              "2  no_of_week_nights (1)       Meal Plan 1  required_car_parking_space (0)   \n",
              "3  no_of_week_nights (2)       Meal Plan 1  required_car_parking_space (0)   \n",
              "4  no_of_week_nights (1)      Not Selected  required_car_parking_space (0)   \n",
              "\n",
              "  room_type_reserved         arrival_year       arrival_month  \\\n",
              "0        Room_Type 1  arrival_year (2017)  arrival_month (10)   \n",
              "1        Room_Type 1  arrival_year (2018)  arrival_month (11)   \n",
              "2        Room_Type 1  arrival_year (2018)   arrival_month (2)   \n",
              "3        Room_Type 1  arrival_year (2018)   arrival_month (5)   \n",
              "4        Room_Type 1  arrival_year (2018)   arrival_month (4)   \n",
              "\n",
              "        arrival_date market_segment_type      repeated_guest  \\\n",
              "0   arrival_date (2)             Offline  repeated_guest (0)   \n",
              "1   arrival_date (6)              Online  repeated_guest (0)   \n",
              "2  arrival_date (28)              Online  repeated_guest (0)   \n",
              "3  arrival_date (20)              Online  repeated_guest (0)   \n",
              "4  arrival_date (11)              Online  repeated_guest (0)   \n",
              "\n",
              "       no_of_previous_cancellations      no_of_previous_bookings_not_canceled  \\\n",
              "0  no_of_previous_cancellations (0)  no_of_previous_bookings_not_canceled (0)   \n",
              "1  no_of_previous_cancellations (0)  no_of_previous_bookings_not_canceled (0)   \n",
              "2  no_of_previous_cancellations (0)  no_of_previous_bookings_not_canceled (0)   \n",
              "3  no_of_previous_cancellations (0)  no_of_previous_bookings_not_canceled (0)   \n",
              "4  no_of_previous_cancellations (0)  no_of_previous_bookings_not_canceled (0)   \n",
              "\n",
              "       no_of_special_requests                   lead_time_group  \\\n",
              "0  no_of_special_requests (0)  lead_time_group ((118.0, 309.0])   \n",
              "1  no_of_special_requests (1)  lead_time_group ((-0.001, 17.0])   \n",
              "2  no_of_special_requests (0)  lead_time_group ((-0.001, 17.0])   \n",
              "3  no_of_special_requests (0)  lead_time_group ((118.0, 309.0])   \n",
              "4  no_of_special_requests (0)    lead_time_group ((17.0, 57.0])   \n",
              "\n",
              "                     avg_price_per_room_group  \n",
              "0  avg_price_per_room_group ((22.999, 81.08])  \n",
              "1  avg_price_per_room_group ((99.45, 118.96])  \n",
              "2  avg_price_per_room_group ((22.999, 81.08])  \n",
              "3  avg_price_per_room_group ((99.45, 118.96])  \n",
              "4   avg_price_per_room_group ((81.08, 99.45])  "
            ],
            "text/html": [
              "\n",
              "  <div id=\"df-fbc7acc8-9cf3-410a-8430-f4f0019bf1c2\" class=\"colab-df-container\">\n",
              "    <div>\n",
              "<style scoped>\n",
              "    .dataframe tbody tr th:only-of-type {\n",
              "        vertical-align: middle;\n",
              "    }\n",
              "\n",
              "    .dataframe tbody tr th {\n",
              "        vertical-align: top;\n",
              "    }\n",
              "\n",
              "    .dataframe thead th {\n",
              "        text-align: right;\n",
              "    }\n",
              "</style>\n",
              "<table border=\"1\" class=\"dataframe\">\n",
              "  <thead>\n",
              "    <tr style=\"text-align: right;\">\n",
              "      <th></th>\n",
              "      <th>no_of_adults</th>\n",
              "      <th>no_of_children</th>\n",
              "      <th>no_of_weekend_nights</th>\n",
              "      <th>no_of_week_nights</th>\n",
              "      <th>type_of_meal_plan</th>\n",
              "      <th>required_car_parking_space</th>\n",
              "      <th>room_type_reserved</th>\n",
              "      <th>arrival_year</th>\n",
              "      <th>arrival_month</th>\n",
              "      <th>arrival_date</th>\n",
              "      <th>market_segment_type</th>\n",
              "      <th>repeated_guest</th>\n",
              "      <th>no_of_previous_cancellations</th>\n",
              "      <th>no_of_previous_bookings_not_canceled</th>\n",
              "      <th>no_of_special_requests</th>\n",
              "      <th>lead_time_group</th>\n",
              "      <th>avg_price_per_room_group</th>\n",
              "    </tr>\n",
              "  </thead>\n",
              "  <tbody>\n",
              "    <tr>\n",
              "      <th>0</th>\n",
              "      <td>no_of_adults (2)</td>\n",
              "      <td>no_of_children (0)</td>\n",
              "      <td>no_of_weekend_nights (1)</td>\n",
              "      <td>no_of_week_nights (2)</td>\n",
              "      <td>Meal Plan 1</td>\n",
              "      <td>required_car_parking_space (0)</td>\n",
              "      <td>Room_Type 1</td>\n",
              "      <td>arrival_year (2017)</td>\n",
              "      <td>arrival_month (10)</td>\n",
              "      <td>arrival_date (2)</td>\n",
              "      <td>Offline</td>\n",
              "      <td>repeated_guest (0)</td>\n",
              "      <td>no_of_previous_cancellations (0)</td>\n",
              "      <td>no_of_previous_bookings_not_canceled (0)</td>\n",
              "      <td>no_of_special_requests (0)</td>\n",
              "      <td>lead_time_group ((118.0, 309.0])</td>\n",
              "      <td>avg_price_per_room_group ((22.999, 81.08])</td>\n",
              "    </tr>\n",
              "    <tr>\n",
              "      <th>1</th>\n",
              "      <td>no_of_adults (2)</td>\n",
              "      <td>no_of_children (0)</td>\n",
              "      <td>no_of_weekend_nights (2)</td>\n",
              "      <td>no_of_week_nights (3)</td>\n",
              "      <td>Not Selected</td>\n",
              "      <td>required_car_parking_space (0)</td>\n",
              "      <td>Room_Type 1</td>\n",
              "      <td>arrival_year (2018)</td>\n",
              "      <td>arrival_month (11)</td>\n",
              "      <td>arrival_date (6)</td>\n",
              "      <td>Online</td>\n",
              "      <td>repeated_guest (0)</td>\n",
              "      <td>no_of_previous_cancellations (0)</td>\n",
              "      <td>no_of_previous_bookings_not_canceled (0)</td>\n",
              "      <td>no_of_special_requests (1)</td>\n",
              "      <td>lead_time_group ((-0.001, 17.0])</td>\n",
              "      <td>avg_price_per_room_group ((99.45, 118.96])</td>\n",
              "    </tr>\n",
              "    <tr>\n",
              "      <th>2</th>\n",
              "      <td>no_of_adults (1)</td>\n",
              "      <td>no_of_children (0)</td>\n",
              "      <td>no_of_weekend_nights (2)</td>\n",
              "      <td>no_of_week_nights (1)</td>\n",
              "      <td>Meal Plan 1</td>\n",
              "      <td>required_car_parking_space (0)</td>\n",
              "      <td>Room_Type 1</td>\n",
              "      <td>arrival_year (2018)</td>\n",
              "      <td>arrival_month (2)</td>\n",
              "      <td>arrival_date (28)</td>\n",
              "      <td>Online</td>\n",
              "      <td>repeated_guest (0)</td>\n",
              "      <td>no_of_previous_cancellations (0)</td>\n",
              "      <td>no_of_previous_bookings_not_canceled (0)</td>\n",
              "      <td>no_of_special_requests (0)</td>\n",
              "      <td>lead_time_group ((-0.001, 17.0])</td>\n",
              "      <td>avg_price_per_room_group ((22.999, 81.08])</td>\n",
              "    </tr>\n",
              "    <tr>\n",
              "      <th>3</th>\n",
              "      <td>no_of_adults (2)</td>\n",
              "      <td>no_of_children (0)</td>\n",
              "      <td>no_of_weekend_nights (0)</td>\n",
              "      <td>no_of_week_nights (2)</td>\n",
              "      <td>Meal Plan 1</td>\n",
              "      <td>required_car_parking_space (0)</td>\n",
              "      <td>Room_Type 1</td>\n",
              "      <td>arrival_year (2018)</td>\n",
              "      <td>arrival_month (5)</td>\n",
              "      <td>arrival_date (20)</td>\n",
              "      <td>Online</td>\n",
              "      <td>repeated_guest (0)</td>\n",
              "      <td>no_of_previous_cancellations (0)</td>\n",
              "      <td>no_of_previous_bookings_not_canceled (0)</td>\n",
              "      <td>no_of_special_requests (0)</td>\n",
              "      <td>lead_time_group ((118.0, 309.0])</td>\n",
              "      <td>avg_price_per_room_group ((99.45, 118.96])</td>\n",
              "    </tr>\n",
              "    <tr>\n",
              "      <th>4</th>\n",
              "      <td>no_of_adults (2)</td>\n",
              "      <td>no_of_children (0)</td>\n",
              "      <td>no_of_weekend_nights (1)</td>\n",
              "      <td>no_of_week_nights (1)</td>\n",
              "      <td>Not Selected</td>\n",
              "      <td>required_car_parking_space (0)</td>\n",
              "      <td>Room_Type 1</td>\n",
              "      <td>arrival_year (2018)</td>\n",
              "      <td>arrival_month (4)</td>\n",
              "      <td>arrival_date (11)</td>\n",
              "      <td>Online</td>\n",
              "      <td>repeated_guest (0)</td>\n",
              "      <td>no_of_previous_cancellations (0)</td>\n",
              "      <td>no_of_previous_bookings_not_canceled (0)</td>\n",
              "      <td>no_of_special_requests (0)</td>\n",
              "      <td>lead_time_group ((17.0, 57.0])</td>\n",
              "      <td>avg_price_per_room_group ((81.08, 99.45])</td>\n",
              "    </tr>\n",
              "  </tbody>\n",
              "</table>\n",
              "</div>\n",
              "    <div class=\"colab-df-buttons\">\n",
              "\n",
              "  <div class=\"colab-df-container\">\n",
              "    <button class=\"colab-df-convert\" onclick=\"convertToInteractive('df-fbc7acc8-9cf3-410a-8430-f4f0019bf1c2')\"\n",
              "            title=\"Convert this dataframe to an interactive table.\"\n",
              "            style=\"display:none;\">\n",
              "\n",
              "  <svg xmlns=\"http://www.w3.org/2000/svg\" height=\"24px\" viewBox=\"0 -960 960 960\">\n",
              "    <path d=\"M120-120v-720h720v720H120Zm60-500h600v-160H180v160Zm220 220h160v-160H400v160Zm0 220h160v-160H400v160ZM180-400h160v-160H180v160Zm440 0h160v-160H620v160ZM180-180h160v-160H180v160Zm440 0h160v-160H620v160Z\"/>\n",
              "  </svg>\n",
              "    </button>\n",
              "\n",
              "  <style>\n",
              "    .colab-df-container {\n",
              "      display:flex;\n",
              "      gap: 12px;\n",
              "    }\n",
              "\n",
              "    .colab-df-convert {\n",
              "      background-color: #E8F0FE;\n",
              "      border: none;\n",
              "      border-radius: 50%;\n",
              "      cursor: pointer;\n",
              "      display: none;\n",
              "      fill: #1967D2;\n",
              "      height: 32px;\n",
              "      padding: 0 0 0 0;\n",
              "      width: 32px;\n",
              "    }\n",
              "\n",
              "    .colab-df-convert:hover {\n",
              "      background-color: #E2EBFA;\n",
              "      box-shadow: 0px 1px 2px rgba(60, 64, 67, 0.3), 0px 1px 3px 1px rgba(60, 64, 67, 0.15);\n",
              "      fill: #174EA6;\n",
              "    }\n",
              "\n",
              "    .colab-df-buttons div {\n",
              "      margin-bottom: 4px;\n",
              "    }\n",
              "\n",
              "    [theme=dark] .colab-df-convert {\n",
              "      background-color: #3B4455;\n",
              "      fill: #D2E3FC;\n",
              "    }\n",
              "\n",
              "    [theme=dark] .colab-df-convert:hover {\n",
              "      background-color: #434B5C;\n",
              "      box-shadow: 0px 1px 3px 1px rgba(0, 0, 0, 0.15);\n",
              "      filter: drop-shadow(0px 1px 2px rgba(0, 0, 0, 0.3));\n",
              "      fill: #FFFFFF;\n",
              "    }\n",
              "  </style>\n",
              "\n",
              "    <script>\n",
              "      const buttonEl =\n",
              "        document.querySelector('#df-fbc7acc8-9cf3-410a-8430-f4f0019bf1c2 button.colab-df-convert');\n",
              "      buttonEl.style.display =\n",
              "        google.colab.kernel.accessAllowed ? 'block' : 'none';\n",
              "\n",
              "      async function convertToInteractive(key) {\n",
              "        const element = document.querySelector('#df-fbc7acc8-9cf3-410a-8430-f4f0019bf1c2');\n",
              "        const dataTable =\n",
              "          await google.colab.kernel.invokeFunction('convertToInteractive',\n",
              "                                                    [key], {});\n",
              "        if (!dataTable) return;\n",
              "\n",
              "        const docLinkHtml = 'Like what you see? Visit the ' +\n",
              "          '<a target=\"_blank\" href=https://colab.research.google.com/notebooks/data_table.ipynb>data table notebook</a>'\n",
              "          + ' to learn more about interactive tables.';\n",
              "        element.innerHTML = '';\n",
              "        dataTable['output_type'] = 'display_data';\n",
              "        await google.colab.output.renderOutput(dataTable, element);\n",
              "        const docLink = document.createElement('div');\n",
              "        docLink.innerHTML = docLinkHtml;\n",
              "        element.appendChild(docLink);\n",
              "      }\n",
              "    </script>\n",
              "  </div>\n",
              "\n",
              "\n",
              "<div id=\"df-10289227-8d0f-4916-af5e-8b6515a9b3a4\">\n",
              "  <button class=\"colab-df-quickchart\" onclick=\"quickchart('df-10289227-8d0f-4916-af5e-8b6515a9b3a4')\"\n",
              "            title=\"Suggest charts\"\n",
              "            style=\"display:none;\">\n",
              "\n",
              "<svg xmlns=\"http://www.w3.org/2000/svg\" height=\"24px\"viewBox=\"0 0 24 24\"\n",
              "     width=\"24px\">\n",
              "    <g>\n",
              "        <path d=\"M19 3H5c-1.1 0-2 .9-2 2v14c0 1.1.9 2 2 2h14c1.1 0 2-.9 2-2V5c0-1.1-.9-2-2-2zM9 17H7v-7h2v7zm4 0h-2V7h2v10zm4 0h-2v-4h2v4z\"/>\n",
              "    </g>\n",
              "</svg>\n",
              "  </button>\n",
              "\n",
              "<style>\n",
              "  .colab-df-quickchart {\n",
              "      --bg-color: #E8F0FE;\n",
              "      --fill-color: #1967D2;\n",
              "      --hover-bg-color: #E2EBFA;\n",
              "      --hover-fill-color: #174EA6;\n",
              "      --disabled-fill-color: #AAA;\n",
              "      --disabled-bg-color: #DDD;\n",
              "  }\n",
              "\n",
              "  [theme=dark] .colab-df-quickchart {\n",
              "      --bg-color: #3B4455;\n",
              "      --fill-color: #D2E3FC;\n",
              "      --hover-bg-color: #434B5C;\n",
              "      --hover-fill-color: #FFFFFF;\n",
              "      --disabled-bg-color: #3B4455;\n",
              "      --disabled-fill-color: #666;\n",
              "  }\n",
              "\n",
              "  .colab-df-quickchart {\n",
              "    background-color: var(--bg-color);\n",
              "    border: none;\n",
              "    border-radius: 50%;\n",
              "    cursor: pointer;\n",
              "    display: none;\n",
              "    fill: var(--fill-color);\n",
              "    height: 32px;\n",
              "    padding: 0;\n",
              "    width: 32px;\n",
              "  }\n",
              "\n",
              "  .colab-df-quickchart:hover {\n",
              "    background-color: var(--hover-bg-color);\n",
              "    box-shadow: 0 1px 2px rgba(60, 64, 67, 0.3), 0 1px 3px 1px rgba(60, 64, 67, 0.15);\n",
              "    fill: var(--button-hover-fill-color);\n",
              "  }\n",
              "\n",
              "  .colab-df-quickchart-complete:disabled,\n",
              "  .colab-df-quickchart-complete:disabled:hover {\n",
              "    background-color: var(--disabled-bg-color);\n",
              "    fill: var(--disabled-fill-color);\n",
              "    box-shadow: none;\n",
              "  }\n",
              "\n",
              "  .colab-df-spinner {\n",
              "    border: 2px solid var(--fill-color);\n",
              "    border-color: transparent;\n",
              "    border-bottom-color: var(--fill-color);\n",
              "    animation:\n",
              "      spin 1s steps(1) infinite;\n",
              "  }\n",
              "\n",
              "  @keyframes spin {\n",
              "    0% {\n",
              "      border-color: transparent;\n",
              "      border-bottom-color: var(--fill-color);\n",
              "      border-left-color: var(--fill-color);\n",
              "    }\n",
              "    20% {\n",
              "      border-color: transparent;\n",
              "      border-left-color: var(--fill-color);\n",
              "      border-top-color: var(--fill-color);\n",
              "    }\n",
              "    30% {\n",
              "      border-color: transparent;\n",
              "      border-left-color: var(--fill-color);\n",
              "      border-top-color: var(--fill-color);\n",
              "      border-right-color: var(--fill-color);\n",
              "    }\n",
              "    40% {\n",
              "      border-color: transparent;\n",
              "      border-right-color: var(--fill-color);\n",
              "      border-top-color: var(--fill-color);\n",
              "    }\n",
              "    60% {\n",
              "      border-color: transparent;\n",
              "      border-right-color: var(--fill-color);\n",
              "    }\n",
              "    80% {\n",
              "      border-color: transparent;\n",
              "      border-right-color: var(--fill-color);\n",
              "      border-bottom-color: var(--fill-color);\n",
              "    }\n",
              "    90% {\n",
              "      border-color: transparent;\n",
              "      border-bottom-color: var(--fill-color);\n",
              "    }\n",
              "  }\n",
              "</style>\n",
              "\n",
              "  <script>\n",
              "    async function quickchart(key) {\n",
              "      const quickchartButtonEl =\n",
              "        document.querySelector('#' + key + ' button');\n",
              "      quickchartButtonEl.disabled = true;  // To prevent multiple clicks.\n",
              "      quickchartButtonEl.classList.add('colab-df-spinner');\n",
              "      try {\n",
              "        const charts = await google.colab.kernel.invokeFunction(\n",
              "            'suggestCharts', [key], {});\n",
              "      } catch (error) {\n",
              "        console.error('Error during call to suggestCharts:', error);\n",
              "      }\n",
              "      quickchartButtonEl.classList.remove('colab-df-spinner');\n",
              "      quickchartButtonEl.classList.add('colab-df-quickchart-complete');\n",
              "    }\n",
              "    (() => {\n",
              "      let quickchartButtonEl =\n",
              "        document.querySelector('#df-10289227-8d0f-4916-af5e-8b6515a9b3a4 button');\n",
              "      quickchartButtonEl.style.display =\n",
              "        google.colab.kernel.accessAllowed ? 'block' : 'none';\n",
              "    })();\n",
              "  </script>\n",
              "</div>\n",
              "    </div>\n",
              "  </div>\n"
            ]
          },
          "metadata": {},
          "execution_count": 21
        }
      ]
    },
    {
      "cell_type": "code",
      "source": [
        "df.dtypes"
      ],
      "metadata": {
        "colab": {
          "base_uri": "https://localhost:8080/"
        },
        "id": "ZcnNYw900jCJ",
        "outputId": "c3f218e6-75d0-42c3-e7a9-dc756659d31f"
      },
      "execution_count": 22,
      "outputs": [
        {
          "output_type": "execute_result",
          "data": {
            "text/plain": [
              "no_of_adults                            object\n",
              "no_of_children                          object\n",
              "no_of_weekend_nights                    object\n",
              "no_of_week_nights                       object\n",
              "type_of_meal_plan                       object\n",
              "required_car_parking_space              object\n",
              "room_type_reserved                      object\n",
              "arrival_year                            object\n",
              "arrival_month                           object\n",
              "arrival_date                            object\n",
              "market_segment_type                     object\n",
              "repeated_guest                          object\n",
              "no_of_previous_cancellations            object\n",
              "no_of_previous_bookings_not_canceled    object\n",
              "no_of_special_requests                  object\n",
              "lead_time_group                         object\n",
              "avg_price_per_room_group                object\n",
              "dtype: object"
            ]
          },
          "metadata": {},
          "execution_count": 22
        }
      ]
    },
    {
      "cell_type": "markdown",
      "source": [
        "### Chuẩn bị dữ liệu"
      ],
      "metadata": {
        "id": "J0hOL9GfyNOS"
      }
    },
    {
      "cell_type": "code",
      "execution_count": 23,
      "metadata": {
        "id": "gcrLqV4GyNOS"
      },
      "outputs": [],
      "source": [
        "def onehot(col, df):\n",
        "  enc = OneHotEncoder(sparse = False) # dạng\n",
        "  df_enc = pd.DataFrame(enc.fit_transform(df[[col]]), columns = df[col].unique())\n",
        "  df.drop(columns = col, inplace = True)\n",
        "  df_combined = pd.concat([df, df_enc], axis=1)\n",
        "  return df_combined"
      ]
    },
    {
      "cell_type": "code",
      "execution_count": 24,
      "metadata": {
        "id": "6yS0H7wRyNOS"
      },
      "outputs": [],
      "source": [
        "for i in df.select_dtypes(include = ['object']).columns:\n",
        "  df = onehot(i, df)\n",
        "\n",
        "df = df.replace({1: True, 0: False})\n"
      ]
    },
    {
      "cell_type": "markdown",
      "source": [
        "# Kiểm thử giá trị minSup trong ngưỡng [0.1-0.8]"
      ],
      "metadata": {
        "id": "eoO29Q4TF_P7"
      }
    },
    {
      "cell_type": "markdown",
      "source": [
        "## minsup = 0.3\n"
      ],
      "metadata": {
        "id": "eDMx3euDyL_2"
      }
    },
    {
      "cell_type": "code",
      "execution_count": 25,
      "metadata": {
        "id": "MnDJH7AEyL_-"
      },
      "outputs": [],
      "source": [
        "frequent_patterns = fpgrowth(df, min_support = 0.3, use_colnames=True)\n",
        "frequent_patterns['itemsets'] = frequent_patterns['itemsets'].apply(lambda x: ', '.join(x))\n",
        "\n",
        "# Sắp xếp chỉ số dựa trên số lượng từ\n",
        "word_counts = frequent_patterns['itemsets'].str.split(\",\").apply(len)\n",
        "sorted_indices = np.argsort(word_counts)\n",
        "\n",
        "# Sắp xếp lại cột \"Itemsets\" dựa trên chỉ số đã sắp xếp\n",
        "frequent_patterns['itemsets'] = frequent_patterns['itemsets'].iloc[sorted_indices].values\n",
        "\n",
        "# Lưu các tập phổ biến lớn nhất\n",
        "frequent_patterns_filter = frequent_patterns.copy()\n",
        "frequent_patterns_reverse = frequent_patterns.iloc[::-1]\n",
        "for valuehigh in frequent_patterns_reverse['itemsets']:\n",
        "  for valuelow in frequent_patterns['itemsets']:\n",
        "    dem = 0\n",
        "    if len(valuelow.split(', ')) == len(valuehigh.split(', ')):\n",
        "      break\n",
        "    for l in valuelow.split(', '):\n",
        "      if l in valuehigh.split(', '):\n",
        "        dem = dem + 1\n",
        "    if dem == len(valuelow.split(', ')):\n",
        "      frequent_patterns_filter = frequent_patterns_filter[frequent_patterns['itemsets'] != valuelow]"
      ]
    },
    {
      "cell_type": "code",
      "source": [
        "# Lấy các cột là mẫu phổ biến\n",
        "df_filtered = df[df.columns[df.columns.isin(frequent_patterns.itemsets)]]\n",
        "\n",
        "## XOR của các tập phổ biến\n",
        "for item in frequent_patterns_filter['itemsets']:\n",
        "  row = []\n",
        "  value = []\n",
        "  for index in item.split(', '):\n",
        "    row.append(index)\n",
        "  name = ' x '.join(row)\n",
        "\n",
        "  for i in row:\n",
        "    value.append(df_filtered[i])\n",
        "\n",
        "  result = value[0]\n",
        "  for i in range(1, len(value)):\n",
        "    result = [x ^ y for x, y in zip(result, value[i])]\n",
        "\n",
        "  df_filtered[name] = result\n",
        "\n",
        "# Xây dựng đặc trưng\n",
        "features = df.astype(int).values"
      ],
      "metadata": {
        "id": "koHi_LdHyL_-"
      },
      "execution_count": 26,
      "outputs": []
    },
    {
      "cell_type": "code",
      "source": [
        "train = pd.concat([df_filtered, target], axis=1)"
      ],
      "metadata": {
        "id": "sW9pc2PTyL_-"
      },
      "execution_count": 27,
      "outputs": []
    },
    {
      "cell_type": "code",
      "source": [
        "y = train['booking_status']\n",
        "X = train.drop(columns = 'booking_status')"
      ],
      "metadata": {
        "id": "MaMf45aHyL__"
      },
      "execution_count": 28,
      "outputs": []
    },
    {
      "cell_type": "code",
      "execution_count": 29,
      "metadata": {
        "id": "DLZ5MFhLyL__"
      },
      "outputs": [],
      "source": [
        "## Chia tập dữ liệu thành training, test sets\n",
        "X_train, X_test, y_train, y_test = train_test_split(X, y, test_size = .2, random_state = 1)\n",
        "\n",
        "## Xây dựng mô hình\n",
        "model = svm.SVC(kernel = 'linear')\n",
        "model.fit(X_train, y_train)\n",
        "\n",
        "## Kiểm thử mô hình\n",
        "y_pred = model.predict(X_test)\n",
        "\n",
        "## đánh giá qua Accuracy\n",
        "accuracy3  = accuracy_score(y_test, y_pred)"
      ]
    },
    {
      "cell_type": "code",
      "source": [
        "print(f'Giá trị accuracy của minSup=0.3 là:{accuracy3}')"
      ],
      "metadata": {
        "id": "nhxl94l0yL__",
        "colab": {
          "base_uri": "https://localhost:8080/"
        },
        "outputId": "1de19caa-87e8-4fa0-b20a-dde60ff12ac6"
      },
      "execution_count": 30,
      "outputs": [
        {
          "output_type": "stream",
          "name": "stdout",
          "text": [
            "Giá trị accuracy của minSup=0.3 là:0.735354927636113\n"
          ]
        }
      ]
    },
    {
      "cell_type": "markdown",
      "source": [
        "## minsup = 0.4\n"
      ],
      "metadata": {
        "id": "6ewpVH0YDcMf"
      }
    },
    {
      "cell_type": "code",
      "execution_count": 31,
      "metadata": {
        "id": "s89DvDHCDcMl"
      },
      "outputs": [],
      "source": [
        "frequent_patterns = fpgrowth(df, min_support = 0.4, use_colnames=True)\n",
        "frequent_patterns['itemsets'] = frequent_patterns['itemsets'].apply(lambda x: ', '.join(x))\n",
        "\n",
        "# Sắp xếp chỉ số dựa trên số lượng từ\n",
        "word_counts = frequent_patterns['itemsets'].str.split(\",\").apply(len)\n",
        "sorted_indices = np.argsort(word_counts)\n",
        "\n",
        "# Sắp xếp lại cột \"Itemsets\" dựa trên chỉ số đã sắp xếp\n",
        "frequent_patterns['itemsets'] = frequent_patterns['itemsets'].iloc[sorted_indices].values\n",
        "\n",
        "# Lưu các tập phổ biến lớn nhất\n",
        "frequent_patterns_filter = frequent_patterns.copy()\n",
        "frequent_patterns_reverse = frequent_patterns.iloc[::-1]\n",
        "for valuehigh in frequent_patterns_reverse['itemsets']:\n",
        "  for valuelow in frequent_patterns['itemsets']:\n",
        "    dem = 0\n",
        "    if len(valuelow.split(', ')) == len(valuehigh.split(', ')):\n",
        "      break\n",
        "    for l in valuelow.split(', '):\n",
        "      if l in valuehigh.split(', '):\n",
        "        dem = dem + 1\n",
        "    if dem == len(valuelow.split(', ')):\n",
        "      frequent_patterns_filter = frequent_patterns_filter[frequent_patterns['itemsets'] != valuelow]"
      ]
    },
    {
      "cell_type": "code",
      "source": [
        "# Lấy các cột là mẫu phổ biến\n",
        "df_filtered = df[df.columns[df.columns.isin(frequent_patterns.itemsets)]]\n",
        "\n",
        "## XOR của các tập phổ biến\n",
        "for item in frequent_patterns_filter['itemsets']:\n",
        "  row = []\n",
        "  value = []\n",
        "  for index in item.split(', '):\n",
        "    row.append(index)\n",
        "  name = ' x '.join(row)\n",
        "\n",
        "  for i in row:\n",
        "    value.append(df_filtered[i])\n",
        "\n",
        "  result = value[0]\n",
        "  for i in range(1, len(value)):\n",
        "    result = [x ^ y for x, y in zip(result, value[i])]\n",
        "\n",
        "  df_filtered[name] = result\n",
        "\n",
        "# Xây dựng đặc trưng\n",
        "features = df.astype(int).values"
      ],
      "metadata": {
        "id": "-AIlmz09DcMm"
      },
      "execution_count": 32,
      "outputs": []
    },
    {
      "cell_type": "code",
      "source": [
        "train = pd.concat([df_filtered, target], axis=1)"
      ],
      "metadata": {
        "id": "maKWEafeDcMm"
      },
      "execution_count": 33,
      "outputs": []
    },
    {
      "cell_type": "code",
      "source": [
        "y = train['booking_status']\n",
        "X = train.drop(columns = 'booking_status')"
      ],
      "metadata": {
        "id": "1wpjNe0pDcMm"
      },
      "execution_count": 34,
      "outputs": []
    },
    {
      "cell_type": "code",
      "execution_count": 35,
      "metadata": {
        "id": "WsTtd5fcDcMm"
      },
      "outputs": [],
      "source": [
        "## Chia tập dữ liệu thành training, test sets\n",
        "X_train, X_test, y_train, y_test = train_test_split(X, y, test_size = .2, random_state = 1)\n",
        "\n",
        "## Xây dựng mô hình\n",
        "model = svm.SVC(kernel = 'linear')\n",
        "model.fit(X_train, y_train)\n",
        "\n",
        "## Kiểm thử mô hình\n",
        "y_pred = model.predict(X_test)\n",
        "\n",
        "## đánh giá qua Accuracy\n",
        "accuracy4  = accuracy_score(y_test, y_pred)"
      ]
    },
    {
      "cell_type": "code",
      "source": [
        "print(f'Giá trị accuracy của minSup=0.4 là:{accuracy4}')"
      ],
      "metadata": {
        "colab": {
          "base_uri": "https://localhost:8080/"
        },
        "outputId": "89c2bb57-78a9-4dcc-dbc9-abf6f66df21d",
        "id": "lLnsRIZmDcMm"
      },
      "execution_count": 36,
      "outputs": [
        {
          "output_type": "stream",
          "name": "stdout",
          "text": [
            "Giá trị accuracy của minSup=0.4 là:0.7390764989662302\n"
          ]
        }
      ]
    },
    {
      "cell_type": "markdown",
      "source": [
        "## minsup = 0.5"
      ],
      "metadata": {
        "id": "VdzlK000Dwdw"
      }
    },
    {
      "cell_type": "code",
      "execution_count": 37,
      "metadata": {
        "id": "Bg7Gre7kDwd2"
      },
      "outputs": [],
      "source": [
        "frequent_patterns = fpgrowth(df, min_support = 0.5, use_colnames=True)\n",
        "frequent_patterns['itemsets'] = frequent_patterns['itemsets'].apply(lambda x: ', '.join(x))\n",
        "\n",
        "# Sắp xếp chỉ số dựa trên số lượng từ\n",
        "word_counts = frequent_patterns['itemsets'].str.split(\",\").apply(len)\n",
        "sorted_indices = np.argsort(word_counts)\n",
        "\n",
        "# Sắp xếp lại cột \"Itemsets\" dựa trên chỉ số đã sắp xếp\n",
        "frequent_patterns['itemsets'] = frequent_patterns['itemsets'].iloc[sorted_indices].values\n",
        "\n",
        "# Lưu các tập phổ biến lớn nhất\n",
        "frequent_patterns_filter = frequent_patterns.copy()\n",
        "frequent_patterns_reverse = frequent_patterns.iloc[::-1]\n",
        "for valuehigh in frequent_patterns_reverse['itemsets']:\n",
        "  for valuelow in frequent_patterns['itemsets']:\n",
        "    dem = 0\n",
        "    if len(valuelow.split(', ')) == len(valuehigh.split(', ')):\n",
        "      break\n",
        "    for l in valuelow.split(', '):\n",
        "      if l in valuehigh.split(', '):\n",
        "        dem = dem + 1\n",
        "    if dem == len(valuelow.split(', ')):\n",
        "      frequent_patterns_filter = frequent_patterns_filter[frequent_patterns['itemsets'] != valuelow]"
      ]
    },
    {
      "cell_type": "code",
      "source": [
        "# Lấy các cột là mẫu phổ biến\n",
        "df_filtered = df[df.columns[df.columns.isin(frequent_patterns.itemsets)]]\n",
        "\n",
        "## XOR của các tập phổ biến\n",
        "for item in frequent_patterns_filter['itemsets']:\n",
        "  row = []\n",
        "  value = []\n",
        "  for index in item.split(', '):\n",
        "    row.append(index)\n",
        "  name = ' x '.join(row)\n",
        "\n",
        "  for i in row:\n",
        "    value.append(df_filtered[i])\n",
        "\n",
        "  result = value[0]\n",
        "  for i in range(1, len(value)):\n",
        "    result = [x ^ y for x, y in zip(result, value[i])]\n",
        "\n",
        "  df_filtered[name] = result\n",
        "\n",
        "# Xây dựng đặc trưng\n",
        "features = df.astype(int).values"
      ],
      "metadata": {
        "id": "32LD6yOyDwd3"
      },
      "execution_count": 38,
      "outputs": []
    },
    {
      "cell_type": "code",
      "source": [
        "train = pd.concat([df_filtered, target], axis=1)"
      ],
      "metadata": {
        "id": "8OnLiETQDwd3"
      },
      "execution_count": 39,
      "outputs": []
    },
    {
      "cell_type": "code",
      "source": [
        "y = train['booking_status']\n",
        "X = train.drop(columns = 'booking_status')"
      ],
      "metadata": {
        "id": "JtPaOD1wDwd3"
      },
      "execution_count": 40,
      "outputs": []
    },
    {
      "cell_type": "code",
      "execution_count": 41,
      "metadata": {
        "id": "fjNyLdx9Dwd3"
      },
      "outputs": [],
      "source": [
        "## Chia tập dữ liệu thành training, test sets\n",
        "X_train, X_test, y_train, y_test = train_test_split(X, y, test_size = .2, random_state = 1)\n",
        "\n",
        "## Xây dựng mô hình\n",
        "model = svm.SVC(kernel = 'linear')\n",
        "model.fit(X_train, y_train)\n",
        "\n",
        "## Kiểm thử mô hình\n",
        "y_pred = model.predict(X_test)\n",
        "\n",
        "## đánh giá qua Accuracy\n",
        "accuracy5  = accuracy_score(y_test, y_pred)"
      ]
    },
    {
      "cell_type": "code",
      "source": [
        "print(f'Giá trị accuracy của minSup=0.5 là:{accuracy5}')"
      ],
      "metadata": {
        "colab": {
          "base_uri": "https://localhost:8080/"
        },
        "outputId": "d34243ac-dbc3-4c35-e4f2-7192be6e3fee",
        "id": "ofKGx-zZDwd3"
      },
      "execution_count": 42,
      "outputs": [
        {
          "output_type": "stream",
          "name": "stdout",
          "text": [
            "Giá trị accuracy của minSup=0.5 là:0.7389386629910406\n"
          ]
        }
      ]
    },
    {
      "cell_type": "markdown",
      "source": [
        "## minsup = 0.6\n"
      ],
      "metadata": {
        "id": "sW59f-yWEGwE"
      }
    },
    {
      "cell_type": "code",
      "execution_count": 43,
      "metadata": {
        "id": "MxTXIMfcEGwL"
      },
      "outputs": [],
      "source": [
        "frequent_patterns = fpgrowth(df, min_support = 0.6, use_colnames=True)\n",
        "frequent_patterns['itemsets'] = frequent_patterns['itemsets'].apply(lambda x: ', '.join(x))\n",
        "\n",
        "# Sắp xếp chỉ số dựa trên số lượng từ\n",
        "word_counts = frequent_patterns['itemsets'].str.split(\",\").apply(len)\n",
        "sorted_indices = np.argsort(word_counts)\n",
        "\n",
        "# Sắp xếp lại cột \"Itemsets\" dựa trên chỉ số đã sắp xếp\n",
        "frequent_patterns['itemsets'] = frequent_patterns['itemsets'].iloc[sorted_indices].values\n",
        "\n",
        "# Lưu các tập phổ biến lớn nhất\n",
        "frequent_patterns_filter = frequent_patterns.copy()\n",
        "frequent_patterns_reverse = frequent_patterns.iloc[::-1]\n",
        "for valuehigh in frequent_patterns_reverse['itemsets']:\n",
        "  for valuelow in frequent_patterns['itemsets']:\n",
        "    dem = 0\n",
        "    if len(valuelow.split(', ')) == len(valuehigh.split(', ')):\n",
        "      break\n",
        "    for l in valuelow.split(', '):\n",
        "      if l in valuehigh.split(', '):\n",
        "        dem = dem + 1\n",
        "    if dem == len(valuelow.split(', ')):\n",
        "      frequent_patterns_filter = frequent_patterns_filter[frequent_patterns['itemsets'] != valuelow]"
      ]
    },
    {
      "cell_type": "code",
      "source": [
        "# Lấy các cột là mẫu phổ biến\n",
        "df_filtered = df[df.columns[df.columns.isin(frequent_patterns.itemsets)]]\n",
        "\n",
        "## XOR của các tập phổ biến\n",
        "for item in frequent_patterns_filter['itemsets']:\n",
        "  row = []\n",
        "  value = []\n",
        "  for index in item.split(', '):\n",
        "    row.append(index)\n",
        "  name = ' x '.join(row)\n",
        "\n",
        "  for i in row:\n",
        "    value.append(df_filtered[i])\n",
        "\n",
        "  result = value[0]\n",
        "  for i in range(1, len(value)):\n",
        "    result = [x ^ y for x, y in zip(result, value[i])]\n",
        "\n",
        "  df_filtered[name] = result\n",
        "\n",
        "# Xây dựng đặc trưng\n",
        "features = df.astype(int).values"
      ],
      "metadata": {
        "id": "3zpi_MNtEGwL"
      },
      "execution_count": 44,
      "outputs": []
    },
    {
      "cell_type": "code",
      "source": [
        "train = pd.concat([df_filtered, target], axis=1)"
      ],
      "metadata": {
        "id": "3Xf7PkyXEGwM"
      },
      "execution_count": 45,
      "outputs": []
    },
    {
      "cell_type": "code",
      "source": [
        "y = train['booking_status']\n",
        "X = train.drop(columns = 'booking_status')"
      ],
      "metadata": {
        "id": "SeVWULBVEGwM"
      },
      "execution_count": 46,
      "outputs": []
    },
    {
      "cell_type": "code",
      "execution_count": 47,
      "metadata": {
        "id": "ujgJQ0qhEGwM"
      },
      "outputs": [],
      "source": [
        "## Chia tập dữ liệu thành training, test sets\n",
        "X_train, X_test, y_train, y_test = train_test_split(X, y, test_size = .2, random_state = 1)\n",
        "\n",
        "## Xây dựng mô hình\n",
        "model = svm.SVC(kernel = 'linear')\n",
        "model.fit(X_train, y_train)\n",
        "\n",
        "## Kiểm thử mô hình\n",
        "y_pred = model.predict(X_test)\n",
        "\n",
        "## đánh giá qua Accuracy\n",
        "accuracy6  = accuracy_score(y_test, y_pred)"
      ]
    },
    {
      "cell_type": "code",
      "source": [
        "print(f'Giá trị accuracy của minSup=0.6 là:{accuracy6}')"
      ],
      "metadata": {
        "colab": {
          "base_uri": "https://localhost:8080/"
        },
        "outputId": "52c9399b-e453-41b6-c6e1-1e177e7657a4",
        "id": "MagHGj9sEGwM"
      },
      "execution_count": 48,
      "outputs": [
        {
          "output_type": "stream",
          "name": "stdout",
          "text": [
            "Giá trị accuracy của minSup=0.6 là:0.6763611302549966\n"
          ]
        }
      ]
    },
    {
      "cell_type": "markdown",
      "source": [
        "## minsup = 0.7\n"
      ],
      "metadata": {
        "id": "hhk2v17GEYLm"
      }
    },
    {
      "cell_type": "code",
      "execution_count": 49,
      "metadata": {
        "id": "bmSs8D6JEYLs"
      },
      "outputs": [],
      "source": [
        "frequent_patterns = fpgrowth(df, min_support = 0.7, use_colnames=True)\n",
        "frequent_patterns['itemsets'] = frequent_patterns['itemsets'].apply(lambda x: ', '.join(x))\n",
        "\n",
        "# Sắp xếp chỉ số dựa trên số lượng từ\n",
        "word_counts = frequent_patterns['itemsets'].str.split(\",\").apply(len)\n",
        "sorted_indices = np.argsort(word_counts)\n",
        "\n",
        "# Sắp xếp lại cột \"Itemsets\" dựa trên chỉ số đã sắp xếp\n",
        "frequent_patterns['itemsets'] = frequent_patterns['itemsets'].iloc[sorted_indices].values\n",
        "\n",
        "# Lưu các tập phổ biến lớn nhất\n",
        "frequent_patterns_filter = frequent_patterns.copy()\n",
        "frequent_patterns_reverse = frequent_patterns.iloc[::-1]\n",
        "for valuehigh in frequent_patterns_reverse['itemsets']:\n",
        "  for valuelow in frequent_patterns['itemsets']:\n",
        "    dem = 0\n",
        "    if len(valuelow.split(', ')) == len(valuehigh.split(', ')):\n",
        "      break\n",
        "    for l in valuelow.split(', '):\n",
        "      if l in valuehigh.split(', '):\n",
        "        dem = dem + 1\n",
        "    if dem == len(valuelow.split(', ')):\n",
        "      frequent_patterns_filter = frequent_patterns_filter[frequent_patterns['itemsets'] != valuelow]"
      ]
    },
    {
      "cell_type": "code",
      "source": [
        "# Lấy các cột là mẫu phổ biến\n",
        "df_filtered = df[df.columns[df.columns.isin(frequent_patterns.itemsets)]]\n",
        "\n",
        "## XOR của các tập phổ biến\n",
        "for item in frequent_patterns_filter['itemsets']:\n",
        "  row = []\n",
        "  value = []\n",
        "  for index in item.split(', '):\n",
        "    row.append(index)\n",
        "  name = ' x '.join(row)\n",
        "\n",
        "  for i in row:\n",
        "    value.append(df_filtered[i])\n",
        "\n",
        "  result = value[0]\n",
        "  for i in range(1, len(value)):\n",
        "    result = [x ^ y for x, y in zip(result, value[i])]\n",
        "\n",
        "  df_filtered[name] = result\n",
        "\n",
        "# Xây dựng đặc trưng\n",
        "features = df.astype(int).values"
      ],
      "metadata": {
        "id": "ih8EPrl4EYLs"
      },
      "execution_count": 50,
      "outputs": []
    },
    {
      "cell_type": "code",
      "source": [
        "train = pd.concat([df_filtered, target], axis=1)"
      ],
      "metadata": {
        "id": "dCpPMT2ZEYLs"
      },
      "execution_count": 51,
      "outputs": []
    },
    {
      "cell_type": "code",
      "source": [
        "y = train['booking_status']\n",
        "X = train.drop(columns = 'booking_status')"
      ],
      "metadata": {
        "id": "pV7FkFgBEYLt"
      },
      "execution_count": 52,
      "outputs": []
    },
    {
      "cell_type": "code",
      "execution_count": 53,
      "metadata": {
        "id": "zXO3pv06EYLt"
      },
      "outputs": [],
      "source": [
        "## Chia tập dữ liệu thành training, test sets\n",
        "X_train, X_test, y_train, y_test = train_test_split(X, y, test_size = .2, random_state = 1)\n",
        "\n",
        "## Xây dựng mô hình\n",
        "model = svm.SVC(kernel = 'linear')\n",
        "model.fit(X_train, y_train)\n",
        "\n",
        "## Kiểm thử mô hình\n",
        "y_pred = model.predict(X_test)\n",
        "\n",
        "## đánh giá qua Accuracy\n",
        "accuracy7  = accuracy_score(y_test, y_pred)"
      ]
    },
    {
      "cell_type": "code",
      "source": [
        "print(f'Giá trị accuracy của minSup=0.7 là:{accuracy7}')"
      ],
      "metadata": {
        "colab": {
          "base_uri": "https://localhost:8080/"
        },
        "outputId": "39f2ebea-392b-4413-e22e-29addaeea334",
        "id": "pG74sz2_EYLt"
      },
      "execution_count": 54,
      "outputs": [
        {
          "output_type": "stream",
          "name": "stdout",
          "text": [
            "Giá trị accuracy của minSup=0.7 là:0.6763611302549966\n"
          ]
        }
      ]
    },
    {
      "cell_type": "markdown",
      "source": [
        "## minsup = 0.8\n"
      ],
      "metadata": {
        "id": "tnI6YaqkFrGc"
      }
    },
    {
      "cell_type": "code",
      "execution_count": 57,
      "metadata": {
        "id": "pfy0DavAFrGi"
      },
      "outputs": [],
      "source": [
        "frequent_patterns = fpgrowth(df, min_support = 0.8, use_colnames=True)\n",
        "frequent_patterns['itemsets'] = frequent_patterns['itemsets'].apply(lambda x: ', '.join(x))\n",
        "\n",
        "# Sắp xếp chỉ số dựa trên số lượng từ\n",
        "word_counts = frequent_patterns['itemsets'].str.split(\",\").apply(len)\n",
        "sorted_indices = np.argsort(word_counts)\n",
        "\n",
        "# Sắp xếp lại cột \"Itemsets\" dựa trên chỉ số đã sắp xếp\n",
        "frequent_patterns['itemsets'] = frequent_patterns['itemsets'].iloc[sorted_indices].values\n",
        "\n",
        "# Lưu các tập phổ biến lớn nhất\n",
        "frequent_patterns_filter = frequent_patterns.copy()\n",
        "frequent_patterns_reverse = frequent_patterns.iloc[::-1]\n",
        "for valuehigh in frequent_patterns_reverse['itemsets']:\n",
        "  for valuelow in frequent_patterns['itemsets']:\n",
        "    dem = 0\n",
        "    if len(valuelow.split(', ')) == len(valuehigh.split(', ')):\n",
        "      break\n",
        "    for l in valuelow.split(', '):\n",
        "      if l in valuehigh.split(', '):\n",
        "        dem = dem + 1\n",
        "    if dem == len(valuelow.split(', ')):\n",
        "      frequent_patterns_filter = frequent_patterns_filter[frequent_patterns['itemsets'] != valuelow]"
      ]
    },
    {
      "cell_type": "code",
      "source": [
        "# Lấy các cột là mẫu phổ biến\n",
        "df_filtered = df[df.columns[df.columns.isin(frequent_patterns.itemsets)]]\n",
        "\n",
        "## XOR của các tập phổ biến\n",
        "for item in frequent_patterns_filter['itemsets']:\n",
        "  row = []\n",
        "  value = []\n",
        "  for index in item.split(', '):\n",
        "    row.append(index)\n",
        "  name = ' x '.join(row)\n",
        "\n",
        "  for i in row:\n",
        "    value.append(df_filtered[i])\n",
        "\n",
        "  result = value[0]\n",
        "  for i in range(1, len(value)):\n",
        "    result = [x ^ y for x, y in zip(result, value[i])]\n",
        "\n",
        "  df_filtered[name] = result\n",
        "\n",
        "# Xây dựng đặc trưng\n",
        "features = df.astype(int).values"
      ],
      "metadata": {
        "id": "-6QuYF3SFrGj"
      },
      "execution_count": 58,
      "outputs": []
    },
    {
      "cell_type": "code",
      "source": [
        "train = pd.concat([df_filtered, target], axis=1)"
      ],
      "metadata": {
        "id": "z9b2p_OtFrGj"
      },
      "execution_count": 59,
      "outputs": []
    },
    {
      "cell_type": "code",
      "source": [
        "y = train['booking_status']\n",
        "X = train.drop(columns = 'booking_status')"
      ],
      "metadata": {
        "id": "2muMzQBqFrGj"
      },
      "execution_count": 60,
      "outputs": []
    },
    {
      "cell_type": "code",
      "execution_count": 61,
      "metadata": {
        "id": "a9fNegKeFrGj"
      },
      "outputs": [],
      "source": [
        "## Chia tập dữ liệu thành training, test sets\n",
        "X_train, X_test, y_train, y_test = train_test_split(X, y, test_size = .2, random_state = 1)\n",
        "\n",
        "## Xây dựng mô hình\n",
        "model = svm.SVC(kernel = 'linear')\n",
        "model.fit(X_train, y_train)\n",
        "\n",
        "## Kiểm thử mô hình\n",
        "y_pred = model.predict(X_test)\n",
        "\n",
        "## đánh giá qua Accuracy\n",
        "accuracy8  = accuracy_score(y_test, y_pred)"
      ]
    },
    {
      "cell_type": "code",
      "source": [
        "print(f'Giá trị accuracy của minSup=0.8 là:{accuracy8}')"
      ],
      "metadata": {
        "colab": {
          "base_uri": "https://localhost:8080/"
        },
        "outputId": "09f251b1-bc3c-4eb1-e6e9-32a39688ad7e",
        "id": "kxFXxqQ2FrGj"
      },
      "execution_count": 62,
      "outputs": [
        {
          "output_type": "stream",
          "name": "stdout",
          "text": [
            "Giá trị accuracy của minSup=0.8 là:0.6763611302549966\n"
          ]
        }
      ]
    },
    {
      "cell_type": "markdown",
      "source": [
        "## Tổng hợp"
      ],
      "metadata": {
        "id": "FcWheh13GLV_"
      }
    },
    {
      "cell_type": "code",
      "source": [
        "print(f'Giá trị accuracy của minSup=0.3 là:{accuracy3}')\n",
        "print(f'Giá trị accuracy của minSup=0.4 là:{accuracy4}')\n",
        "print(f'Giá trị accuracy của minSup=0.5 là:{accuracy5}')\n",
        "print(f'Giá trị accuracy của minSup=0.6 là:{accuracy6}')\n",
        "print(f'Giá trị accuracy của minSup=0.7 là:{accuracy7}')\n",
        "print(f'Giá trị accuracy của minSup=0.8 là:{accuracy8}')"
      ],
      "metadata": {
        "colab": {
          "base_uri": "https://localhost:8080/"
        },
        "id": "2LzGsqWJGNiH",
        "outputId": "ecd5745a-77ab-4324-ad56-a8731b06ea1b"
      },
      "execution_count": 63,
      "outputs": [
        {
          "output_type": "stream",
          "name": "stdout",
          "text": [
            "Giá trị accuracy của minSup=0.3 là:0.735354927636113\n",
            "Giá trị accuracy của minSup=0.4 là:0.7390764989662302\n",
            "Giá trị accuracy của minSup=0.5 là:0.7389386629910406\n",
            "Giá trị accuracy của minSup=0.6 là:0.6763611302549966\n",
            "Giá trị accuracy của minSup=0.7 là:0.6763611302549966\n",
            "Giá trị accuracy của minSup=0.8 là:0.6763611302549966\n"
          ]
        }
      ]
    }
  ],
  "metadata": {
    "colab": {
      "provenance": [],
      "collapsed_sections": [
        "BSDlk6bSQi00",
        "pQZ8hH4kRLkc",
        "mEXcUD-tSkmg",
        "zJdnObNiU_ay",
        "4UtMLFBImUQX",
        "J2sRrorpnk5w",
        "GbViG8rsoSfD",
        "T44uIM9rol_G",
        "FJGTEpDuOv8r",
        "SwyQ-D36qHXU",
        "OghdDn2bqtQU"
      ],
      "toc_visible": true
    },
    "kernelspec": {
      "display_name": "Python 3",
      "name": "python3"
    },
    "language_info": {
      "name": "python"
    }
  },
  "nbformat": 4,
  "nbformat_minor": 0
}